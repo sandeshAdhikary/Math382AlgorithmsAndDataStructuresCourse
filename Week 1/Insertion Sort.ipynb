{
 "cells": [
  {
   "cell_type": "markdown",
   "metadata": {},
   "source": [
    "# Insertion Sort"
   ]
  },
  {
   "cell_type": "markdown",
   "metadata": {},
   "source": [
    "Insertion sort is a simple sorting algorithm that mimics the way we would generally sort a hand of playing cards. Starting from the second element in the list, we check if the element to its left is greater than it. If so, we move our current item to the left. We keep doing this iteratively until all elements are sorted.\n",
    "\n",
    "### The Problem\n",
    "**Input**: A sequence **A** of numbers [a0,a1,a2,...an]  \n",
    "**Output**: A reordering of the original sequence [a0',a1',a2',...,an'] such that a1'< a2' .... < an'\n",
    "** Pseudocode **:\n",
    "Let A be some list of numbers  \n",
    "for j = 1 to length(A):    \n",
    "&nbsp;&nbsp;&nbsp;&nbsp;key = A[ j ]  \n",
    "&nbsp;&nbsp;&nbsp;&nbsp;i = j - 1  \n",
    "&nbsp;&nbsp;&nbsp;&nbsp;while i <= 0 AND A[ i ] > key  \n",
    "&nbsp;&nbsp;&nbsp;&nbsp;&nbsp;&nbsp;&nbsp;&nbsp;A[ i+1 ] = A[ i ]  \n",
    "&nbsp;&nbsp;&nbsp;&nbsp;&nbsp;&nbsp;&nbsp;&nbsp;i = i -1  \n",
    "&nbsp;&nbsp;&nbsp;&nbsp;A[ i + 1 ] = key  "
   ]
  },
  {
   "cell_type": "markdown",
   "metadata": {},
   "source": [
    "### Python Code"
   ]
  },
  {
   "cell_type": "code",
   "execution_count": 5,
   "metadata": {
    "collapsed": false
   },
   "outputs": [],
   "source": [
    "# Creating an insertionSort class with a method to sort and a method to print the log of the sorting process\n",
    "\n",
    "class insertionSort():\n",
    "    \"\"\"\n",
    "    Input: a numeric list to be sorted\n",
    "    Outputs:\n",
    "    .sort() =  No output. The original input list will be sorted.\n",
    "    .log() =   A new list where each element shows what the original list\n",
    "               looks like at every iteration of the algorithm. The original input list will also get sorted.\n",
    "    \"\"\"\n",
    "    \n",
    "    # Initializing with a user-entered inputList and an empty logList with the same length as inputList\n",
    "    def __init__(self,inputList):\n",
    "        self.inputList = inputList\n",
    "        self.logList = [None]*len(self.inputList)\n",
    "    \n",
    "    # This method sorts an input list via insertion sort\n",
    "    def sort(self):\n",
    "        for j in range(1,len(self.inputList )):\n",
    "            key = self.inputList[j]\n",
    "            i = j - 1\n",
    "            while i >= 0 and self.inputList [i] > key:\n",
    "                self.inputList[i+1] = self.inputList[i]\n",
    "                i -= 1 # i = i - 1\n",
    "            self.inputList[i+1] = key\n",
    "\n",
    "    # Need to work on the following method. Right now, the value of logList only has the final list value\n",
    "    # This method provides a log of what inputList looks like at every step of the sorting process\n",
    "    def log(self):\n",
    "        for j in range(1,len(self.inputList)):\n",
    "            key = self.inputList[j]\n",
    "            i = j - 1\n",
    "            while i >= 0 and self.inputList[i] > key:\n",
    "                self.inputList[i+1] = self.inputList[i]\n",
    "                i -= 1 # i = i - 1\n",
    "            self.inputList[i+1] = key\n",
    "            self.logList[j-1] = self.inputList\n",
    "\n",
    "        self.logList[j] = self.inputList\n",
    "        return self.logList"
   ]
  },
  {
   "cell_type": "markdown",
   "metadata": {},
   "source": [
    "Now, let's apply insertionSort to a list A"
   ]
  },
  {
   "cell_type": "code",
   "execution_count": 6,
   "metadata": {
    "collapsed": false
   },
   "outputs": [
    {
     "name": "stdout",
     "output_type": "stream",
     "text": [
      "Initial List: [4, 1, 3, 6, 8, 9, 42, 2, 81, 82111, -1, 92, -82111, 6, 6, 6]\n",
      "Final List: [-82111, -1, 1, 2, 3, 4, 6, 6, 6, 6, 8, 9, 42, 81, 92, 82111]\n"
     ]
    }
   ],
   "source": [
    "# Define and print the original list\n",
    "A = [4,1,3,6,8,9,42,2,81,82111,-1,92,-82111,6,6,6]\n",
    "print \"Initial List:\", A\n",
    "\n",
    "# Sorting A using the sort method from insertionSort\n",
    "insertionSort(A).sort()\n",
    "\n",
    "# Print the list A after insertionSort\n",
    "print \"Final List:\", A"
   ]
  },
  {
   "cell_type": "code",
   "execution_count": 4,
   "metadata": {
    "collapsed": false
   },
   "outputs": [],
   "source": [
    "# #Uncomment this when the .log() method for insertionSort works\n",
    "# #Let's run insertionSortLog to see what is happening at each step\n",
    "# A = [4,1,3,6,8,9,42,2,81]\n",
    "\n",
    "# insertionSort(A).log()"
   ]
  },
  {
   "cell_type": "markdown",
   "metadata": {},
   "source": [
    "# Running Time of Insertion Sort"
   ]
  },
  {
   "cell_type": "markdown",
   "metadata": {},
   "source": [
    "Let $t_j$ be the number of times the test in the while loop on line 4 is executed for a given $j$\n",
    "\n",
    "|Line| Code  | Cost   | Times   | Comment|\n",
    "|---|---|---|---|---|\n",
    "|1|for j = 1 to length(A):       |$c_1$ | $n$ | # *Because we will still end up doing the check for h = length(A) + 1*|\n",
    "|2|&nbsp;&nbsp;&nbsp;&nbsp;key = A[ j ]     |  $c_2$ | $n-1$  | |\n",
    "|3|&nbsp;&nbsp;&nbsp;&nbsp;i = j - 1     |  $c_3$ |  $n-1$ | |\n",
    "|4|&nbsp;&nbsp;&nbsp;&nbsp;while i <= 0 AND A[ i ] > key  |  $c_4$ |  $\\sum_{j=1}^{n}{t_j}$ | #*By definition* |\n",
    "|5|&nbsp;&nbsp;&nbsp;&nbsp;&nbsp;&nbsp;&nbsp;&nbsp;A[ i+1 ] = A[ i ]  |  $c_5$ | $\\sum_{j=1}^{n}{(t_{j}-1)}$  | # *j = 0 is a valid value*|\n",
    "|6|&nbsp;&nbsp;&nbsp;&nbsp;&nbsp;&nbsp;&nbsp;&nbsp;i = i -1  |  $c_6$ | $\\sum_{j=1}^{n}{(t_{j}-1)}$  | # *j = 0 is a valid value*|\n",
    "|7|&nbsp;&nbsp;&nbsp;&nbsp;A[ i + 1 ] = key|  $c_7$ |  $n-1$ | | "
   ]
  },
  {
   "cell_type": "markdown",
   "metadata": {},
   "source": [
    "Now, the total time taken for the algorithm is  \n",
    "$$\n",
    "\\begin{align}\n",
    "T(n) &= c_1 n + c_2 (n-1) + c_3 (n-1) + c_4 \\sum_{j=1}^{n}{t_j} + c_5 (\\sum_{j=1}^{n}{t_j - 1}) + c_6 (\\sum_{j=1}^{n}{t_j - 1}) + c_7 (n-1)\\\\\n",
    "%%&= A n - B + C \\sum_{j=1}^{n}{t_j - 1} + D\\sum_{j=1}^{n}{t_j}\n",
    "\\end{align}\n",
    "$$"
   ]
  },
  {
   "cell_type": "markdown",
   "metadata": {},
   "source": [
    "#### Best Case Scenario\n",
    "The best case is when the array is already sorted. In that case, $t_{j} = 1$ because line 5 needs to be evaluated once (for i = 1). Since that fails, the rest of the lines within the while loop don't need to be evaluated. So, from our earlier equation:\n",
    "\n",
    "$$\n",
    "\\begin{align}\n",
    "T(n) &= c_1 n + (c_2 + c_3) (n-1) + c4 * (n-1) + c_7 (n-1)\\\\\n",
    "&= An - B\n",
    "\\end{align}\n",
    "$$\n",
    "\n",
    "Therefore, at best, the running time for Insertion-Sort is **linear** with respect to $n$"
   ]
  },
  {
   "cell_type": "markdown",
   "metadata": {},
   "source": [
    "#### Worst Case Scenario\n",
    "The worst case is when the array is reverse-sorted. In that case, $t_j = j-1 + 1 = j $\n",
    "\n",
    "$$\n",
    "\\begin{align}\n",
    "T(n) &= A n - B + C\\left(\\frac{n(n+1)}{2} - 1\\right) + D\\left(\\frac{n(n-1)}{2}\\right)\n",
    "\\end{align}\n",
    "$$\n",
    "\n",
    "where we used\n",
    "\n",
    "$$\n",
    "\\sum_{j=1}^{n}{j} = \\left(\\frac{n(n+1)}{2} - 1\\right)\n",
    "$$\n",
    "\n",
    "and\n",
    "\n",
    "$$\n",
    "\\sum_{j=1}^{n}{j-1} = \\left(\\frac{n(n+1)}{2} - 1\\right)\n",
    "$$\n",
    "\n",
    "\n",
    "Therefore, at worst, the running time for Insertion-Sort is **quadratic** with respect to $n$"
   ]
  },
  {
   "cell_type": "markdown",
   "metadata": {},
   "source": [
    "### Loop Invariance and Correctness"
   ]
  },
  {
   "cell_type": "markdown",
   "metadata": {},
   "source": [
    "**Loop Invariant**: \n",
    " - A property of a loop that is true before and after each iteration  \n",
    " - Loop invariants can help prove the correctness or usefulness of an algorithm  \n",
    " - Proving a loop invariant is very similar to doing a proof by induction. Here is the recipe:\n",
    "     - **Initialization** Prove that the invariant is true prior to the first iteration of the loop (base case)\n",
    "     - **Maintenance** Prove that if the invariant is true before an ($n^{th}$ case) iteration of the loop, it remains true before the iteration of the next iteration ${(n+1)}^{th}$ case.\n",
    "     - **Termination** Show that when the loop terminates, the invariant gives a useful property that helps show that the algorithm is correct."
   ]
  },
  {
   "cell_type": "markdown",
   "metadata": {},
   "source": [
    "For insertionSort, a loop invariance is that at the start of each iteration of the for loop, the subarray **A[1, ..., j-1]** consists of the same elements as originally in **A[1, ..., j-1]**  \n"
   ]
  },
  {
   "cell_type": "markdown",
   "metadata": {},
   "source": [
    "## -------------------------------------------------------Exercises--------------------------------------------------------"
   ]
  },
  {
   "cell_type": "markdown",
   "metadata": {},
   "source": [
    "### **CLSR Exercise 2.1-2**  \n",
    "Q) *Rewrite the INSERTION-SORT procedure to sort into nonincreasing instead of non-decreasing order*\n",
    "\n",
    "**Input**: A sequence **A** of numbers [a0,a1,a2,...an]  \n",
    "**Output**: A reordering of the original sequence [a0',a1',a2',...,an'] such that a1'> a2' .... > an'\n",
    "\n",
    "**Strategy**: We could just use the original insertionSort procedure and simply reverse the final output list. But let's do this from scratch. For every element (starting from the second to last one), we'll check if it is greater than the elements to its right. If so, we move it one step to the left.\n",
    "\n",
    "** Pseudocode **:\n",
    "Let A be some list of numbers  \n",
    "for j = length(A) to 1:  \n",
    "&nbsp;&nbsp;&nbsp;&nbsp;key = A[ j ]  \n",
    "&nbsp;&nbsp;&nbsp;&nbsp;i = j + 1  \n",
    "&nbsp;&nbsp;&nbsp;&nbsp;while i <= length(A) AND A[ i ] > key  \n",
    "&nbsp;&nbsp;&nbsp;&nbsp;&nbsp;&nbsp;&nbsp;&nbsp;A[ i-1 ] = A[ i ]  \n",
    "&nbsp;&nbsp;&nbsp;&nbsp;&nbsp;&nbsp;&nbsp;&nbsp;i = i + 1  \n",
    "&nbsp;&nbsp;&nbsp;&nbsp;A[ i - 1 ] = key  "
   ]
  },
  {
   "cell_type": "code",
   "execution_count": 5,
   "metadata": {
    "collapsed": true
   },
   "outputs": [],
   "source": [
    "def reverseInsertionSort(inputList):\n",
    "    # The range needs to go from length-2 to -1 because python starts counting at 0\n",
    "    for j in range(len(inputList)-2,-1,-1):\n",
    "            key = inputList[j]\n",
    "            i = j + 1\n",
    "            while i <= len(inputList) -1 and inputList[i] > key:\n",
    "                inputList[i-1] = inputList[i]\n",
    "                i += 1 # i = i + 1\n",
    "            inputList[i-1] = key   "
   ]
  },
  {
   "cell_type": "code",
   "execution_count": 6,
   "metadata": {
    "collapsed": false
   },
   "outputs": [
    {
     "name": "stdout",
     "output_type": "stream",
     "text": [
      "Initial List: [4, 1, 3, 6, 8, 9, 42, 2, 81, 82111, -1, 92, -82111, 6, 6, 6, 92]\n",
      "Final List: [82111, 92, 92, 81, 42, 9, 8, 6, 6, 6, 6, 4, 3, 2, 1, -1, -82111]\n"
     ]
    }
   ],
   "source": [
    "# Define and print the original list\n",
    "A = [4,1,3,6,8,9,42,2,81,82111,-1,92,-82111,6,6,6,92]\n",
    "print \"Initial List:\", A\n",
    "\n",
    "# Sorting A using the sort method from insertionSort\n",
    "reverseInsertionSort(A)\n",
    "\n",
    "# Print the list A after insertionSort\n",
    "print \"Final List:\", A"
   ]
  }
 ],
 "metadata": {
  "kernelspec": {
   "display_name": "Python 2",
   "language": "python",
   "name": "python2"
  },
  "language_info": {
   "codemirror_mode": {
    "name": "ipython",
    "version": 2
   },
   "file_extension": ".py",
   "mimetype": "text/x-python",
   "name": "python",
   "nbconvert_exporter": "python",
   "pygments_lexer": "ipython2",
   "version": "2.7.13"
  }
 },
 "nbformat": 4,
 "nbformat_minor": 0
}
