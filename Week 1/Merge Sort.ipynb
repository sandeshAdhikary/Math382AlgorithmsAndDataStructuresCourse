{
 "cells": [
  {
   "cell_type": "markdown",
   "metadata": {},
   "source": [
    "# Merge Sort"
   ]
  },
  {
   "cell_type": "markdown",
   "metadata": {},
   "source": [
    "- Merge Sort improves upon the original Insertion Sort algorithm by using the 'Divide & Conquer' approach. \n",
    "- Divide & Conquer involes the following steps:\n",
    "    - Divide the problem into sub-problems\n",
    "    - Solve the sub-problems (usually) by recursively calling the original algorithm\n",
    "    - Combine the solutions to the sub-problems to create a solution to the main problem\n",
    "\n",
    "\n",
    "### The Problem\n",
    "**Input**: A sequence **A** of numbers [a0,a1,a2,...an]  \n",
    "**Output**: A reordering of the original sequence [a0',a1',a2',...,an'] such that a1'< a2' .... < an'  \n",
    "** Pseudocode **:  \n",
    "MERGE-SORT(A,p,r):  \n",
    "&nbsp;&nbsp;// A is the array  \n",
    "&nbsp;&nbsp;// p and r are the indices such that A[p...q] and A[q+1...r] are already in sorted order  \n",
    "&nbsp;&nbsp;if p < r:  \n",
    "&nbsp;&nbsp;&nbsp;&nbsp; q <- Floor((p+r)/2)  \n",
    "&nbsp;&nbsp;&nbsp;&nbsp; MERGE-SORT(A,p,q)  \n",
    "&nbsp;&nbsp;&nbsp;&nbsp; MERGE-SORT(A,q+1,r)  \n",
    "&nbsp;&nbsp;&nbsp;&nbsp; MERGE(A,p,q,r)\n",
    "\n",
    "The heavy-lifting in this algorithm is being done by MERGE:  \n",
    "MERGE(A,p,q,r):  \n",
    "n1 <- q - p + 1  #Length of the new left array  \n",
    "n2 <- r -q  #Length of the new right array r - (q + 1) + 1  \n",
    "#create arrays L[1,...,n1+1] and R[1....n2+1]  \n",
    "for i <- 1 to n1:  \n",
    "&nbsp;&nbsp;&nbsp;&nbsp;L[i] <- A[p+i-1]  \n",
    "for j <- 1 to n2:  \n",
    "&nbsp;&nbsp;&nbsp;&nbsp;R[j] <- A[q+j]  \n",
    "#adding a sentinel value  \n",
    "L[n1 + 1] <- INF #INF = infinity  \n",
    "R[n2 + 1] <- INF #INF = infinity  \n",
    "#Now we start filling up L and R. \n",
    "i <- 1  \n",
    "j <- 1  \n",
    "for k <- p to r:  \n",
    "&nbsp;&nbsp;&nbsp;&nbsp; if L[i] =< R [j]:  \n",
    "&nbsp;&nbsp;&nbsp;&nbsp;&nbsp;&nbsp;&nbsp;&nbsp;A[k] <- L[i]  \n",
    "&nbsp;&nbsp;&nbsp;&nbsp;&nbsp;&nbsp;&nbsp;&nbsp;i <- i + 1  \n",
    "&nbsp;&nbsp;&nbsp;&nbsp; else  \n",
    "&nbsp;&nbsp;&nbsp;&nbsp;&nbsp;&nbsp;&nbsp;&nbsp;A[k] <- R[j]  \n",
    "&nbsp;&nbsp;&nbsp;&nbsp;&nbsp;&nbsp;&nbsp;&nbsp;j <- j+1  "
   ]
  },
  {
   "cell_type": "markdown",
   "metadata": {},
   "source": [
    "### Python Code"
   ]
  },
  {
   "cell_type": "code",
   "execution_count": 194,
   "metadata": {
    "collapsed": false
   },
   "outputs": [],
   "source": [
    "# Creating an insertionSort class with a method to sort and a method to print the log of the sorting process\n",
    "\n",
    "import math # for the floor function\n",
    "\n",
    "class mergeSort():\n",
    "    \"\"\"\n",
    "    Input: a numeric list to be sorted\n",
    "    Outputs:\n",
    "    .sort() =  No output. The original input list will be sorted.\n",
    "    .log() =   A new list where each element shows what the original list\n",
    "               looks like at every iteration of the algorithm. The original input list will also get sorted.\n",
    "    \"\"\"\n",
    "    \n",
    "    # Initializing with a user-entered inputList and an empty logList with the same length as inputList\n",
    "    def __init__(self,inputList,p,q,r):\n",
    "        self.inputList = inputList\n",
    "        self.p = p\n",
    "        self.q = q\n",
    "        self.r = r\n",
    "        self.sentinelValue = max(inputList)+1\n",
    "        self.logList = [None]*len(self.inputList)\n",
    "    \n",
    "    # This method sorts an input list via insertion sort\n",
    "    def merge(self):\n",
    "        n1 = self.q - self.p + 1\n",
    "        n2 = self.r - self.q\n",
    "        \n",
    "        # creating the left and right sub-arrays\n",
    "        self.left = [None]*(n1+1)\n",
    "        self.right = [None]*(n2+1)\n",
    "        \n",
    "        for i in range(0,n1):\n",
    "            self.left[i] = self.inputList[self.p + i-1]\n",
    "        for j in range(0,n2):\n",
    "            self.right[j] = self.inputList[self.q + j]\n",
    "\n",
    "        # Adding the sentinel values at the end of Left and RIght\n",
    "        self.left[n1] = self.sentinelValue\n",
    "        self.right[n2] = self.sentinelValue\n",
    "        \n",
    "        i = 0\n",
    "        j = 0\n",
    "        \n",
    "               \n",
    "        for k in range(self.p-1,self.r):\n",
    "\n",
    "            if self.left[i] <= self.right[j]:\n",
    "                self.inputList[k] = self.left[i]\n",
    "                i = i + 1\n",
    "            else:\n",
    "                self.inputList[k] = self.right[j]\n",
    "                j = j + 1\n",
    "        \n",
    "        return [self.inputList]\n",
    "    \n",
    "    # Creating a recursive function 'sort' that calls the merge function\n",
    "    def sort(self):\n",
    "        if self.p < self.r:\n",
    "            q = math.floor((self.p+self.r)/2)\n",
    "            self(self.inputList,self.p,self.q).sort()\n",
    "            self(self.inputList,self.q+1,self.r).sort()\n",
    "            self(self.inputList,self.p,self.q,self.r).merge()\n",
    "            \n",
    "    # Create a log method to print out iterative results of the merge function\n",
    "    def log(self):\n",
    "        print \"test\""
   ]
  },
  {
   "cell_type": "code",
   "execution_count": 195,
   "metadata": {
    "collapsed": false
   },
   "outputs": [
    {
     "name": "stdout",
     "output_type": "stream",
     "text": [
      "10\n"
     ]
    },
    {
     "ename": "AttributeError",
     "evalue": "mergeSort instance has no __call__ method",
     "output_type": "error",
     "traceback": [
      "\u001b[1;31m---------------------------------------------------------------------------\u001b[0m",
      "\u001b[1;31mAttributeError\u001b[0m                            Traceback (most recent call last)",
      "\u001b[1;32m<ipython-input-195-12dc6c33383a>\u001b[0m in \u001b[0;36m<module>\u001b[1;34m()\u001b[0m\n\u001b[0;32m      5\u001b[0m \u001b[1;33m\u001b[0m\u001b[0m\n\u001b[0;32m      6\u001b[0m \u001b[1;31m#Sorting A using the sort method from insertionSort\u001b[0m\u001b[1;33m\u001b[0m\u001b[1;33m\u001b[0m\u001b[0m\n\u001b[1;32m----> 7\u001b[1;33m \u001b[0mmergeSort\u001b[0m\u001b[1;33m(\u001b[0m\u001b[0mA\u001b[0m\u001b[1;33m,\u001b[0m\u001b[1;36m1\u001b[0m\u001b[1;33m,\u001b[0m\u001b[1;36m5\u001b[0m\u001b[1;33m,\u001b[0m\u001b[1;36m10\u001b[0m\u001b[1;33m)\u001b[0m\u001b[1;33m.\u001b[0m\u001b[0msort\u001b[0m\u001b[1;33m(\u001b[0m\u001b[1;33m)\u001b[0m\u001b[1;33m\u001b[0m\u001b[0m\n\u001b[0m",
      "\u001b[1;32m<ipython-input-194-57acd4197d9a>\u001b[0m in \u001b[0;36msort\u001b[1;34m(self)\u001b[0m\n\u001b[0;32m     58\u001b[0m         \u001b[1;32mif\u001b[0m \u001b[0mself\u001b[0m\u001b[1;33m.\u001b[0m\u001b[0mp\u001b[0m \u001b[1;33m<\u001b[0m \u001b[0mself\u001b[0m\u001b[1;33m.\u001b[0m\u001b[0mr\u001b[0m\u001b[1;33m:\u001b[0m\u001b[1;33m\u001b[0m\u001b[0m\n\u001b[0;32m     59\u001b[0m             \u001b[0mq\u001b[0m \u001b[1;33m=\u001b[0m \u001b[0mmath\u001b[0m\u001b[1;33m.\u001b[0m\u001b[0mfloor\u001b[0m\u001b[1;33m(\u001b[0m\u001b[1;33m(\u001b[0m\u001b[0mself\u001b[0m\u001b[1;33m.\u001b[0m\u001b[0mp\u001b[0m\u001b[1;33m+\u001b[0m\u001b[0mself\u001b[0m\u001b[1;33m.\u001b[0m\u001b[0mr\u001b[0m\u001b[1;33m)\u001b[0m\u001b[1;33m/\u001b[0m\u001b[1;36m2\u001b[0m\u001b[1;33m)\u001b[0m\u001b[1;33m\u001b[0m\u001b[0m\n\u001b[1;32m---> 60\u001b[1;33m             \u001b[0mself\u001b[0m\u001b[1;33m(\u001b[0m\u001b[0mself\u001b[0m\u001b[1;33m.\u001b[0m\u001b[0minputList\u001b[0m\u001b[1;33m,\u001b[0m\u001b[0mself\u001b[0m\u001b[1;33m.\u001b[0m\u001b[0mp\u001b[0m\u001b[1;33m,\u001b[0m\u001b[0mself\u001b[0m\u001b[1;33m.\u001b[0m\u001b[0mq\u001b[0m\u001b[1;33m)\u001b[0m\u001b[1;33m.\u001b[0m\u001b[0msort\u001b[0m\u001b[1;33m(\u001b[0m\u001b[1;33m)\u001b[0m\u001b[1;33m\u001b[0m\u001b[0m\n\u001b[0m\u001b[0;32m     61\u001b[0m             \u001b[0mself\u001b[0m\u001b[1;33m(\u001b[0m\u001b[0mself\u001b[0m\u001b[1;33m.\u001b[0m\u001b[0minputList\u001b[0m\u001b[1;33m,\u001b[0m\u001b[0mself\u001b[0m\u001b[1;33m.\u001b[0m\u001b[0mq\u001b[0m\u001b[1;33m+\u001b[0m\u001b[1;36m1\u001b[0m\u001b[1;33m,\u001b[0m\u001b[0mself\u001b[0m\u001b[1;33m.\u001b[0m\u001b[0mr\u001b[0m\u001b[1;33m)\u001b[0m\u001b[1;33m.\u001b[0m\u001b[0msort\u001b[0m\u001b[1;33m(\u001b[0m\u001b[1;33m)\u001b[0m\u001b[1;33m\u001b[0m\u001b[0m\n\u001b[0;32m     62\u001b[0m             \u001b[0mself\u001b[0m\u001b[1;33m(\u001b[0m\u001b[0mself\u001b[0m\u001b[1;33m.\u001b[0m\u001b[0minputList\u001b[0m\u001b[1;33m,\u001b[0m\u001b[0mself\u001b[0m\u001b[1;33m.\u001b[0m\u001b[0mp\u001b[0m\u001b[1;33m,\u001b[0m\u001b[0mself\u001b[0m\u001b[1;33m.\u001b[0m\u001b[0mq\u001b[0m\u001b[1;33m,\u001b[0m\u001b[0mself\u001b[0m\u001b[1;33m.\u001b[0m\u001b[0mr\u001b[0m\u001b[1;33m)\u001b[0m\u001b[1;33m.\u001b[0m\u001b[0mmerge\u001b[0m\u001b[1;33m(\u001b[0m\u001b[1;33m)\u001b[0m\u001b[1;33m\u001b[0m\u001b[0m\n",
      "\u001b[1;31mAttributeError\u001b[0m: mergeSort instance has no __call__ method"
     ]
    }
   ],
   "source": [
    "# Define and print the original list\n",
    "A = [1,2,3,4,81,-5,-4,-3,-2,-1]\n",
    "print len(A)\n",
    "\n",
    "\n",
    "#Sorting A using the sort method from insertionSort\n",
    "mergeSort(A,1,5,10).sort()\n"
   ]
  },
  {
   "cell_type": "markdown",
   "metadata": {},
   "source": [
    "Now, let's apply insertionSort to a list A"
   ]
  },
  {
   "cell_type": "code",
   "execution_count": null,
   "metadata": {
    "collapsed": false
   },
   "outputs": [],
   "source": [
    "# Define and print the original list\n",
    "A = [4,1,3,6,8,9,42,2,81,82111,-1,92,-82111,6,6,6]\n",
    "print \"Initial List:\", A\n",
    "\n",
    "# Sorting A using the sort method from insertionSort\n",
    "insertionSort(A).sort()\n",
    "\n",
    "# Print the list A after insertionSort\n",
    "print \"Final List:\", A"
   ]
  },
  {
   "cell_type": "code",
   "execution_count": null,
   "metadata": {
    "collapsed": false
   },
   "outputs": [],
   "source": [
    "# #Uncomment this when the .log() method for insertionSort works\n",
    "# #Let's run insertionSortLog to see what is happening at each step\n",
    "# A = [4,1,3,6,8,9,42,2,81]\n",
    "\n",
    "# insertionSort(A).log()"
   ]
  },
  {
   "cell_type": "markdown",
   "metadata": {},
   "source": [
    "### Loop Invariance and Correctness"
   ]
  },
  {
   "cell_type": "markdown",
   "metadata": {},
   "source": [
    "## -------------------------------------------------------Exercises--------------------------------------------------------"
   ]
  }
 ],
 "metadata": {
  "kernelspec": {
   "display_name": "Python 2",
   "language": "python",
   "name": "python2"
  },
  "language_info": {
   "codemirror_mode": {
    "name": "ipython",
    "version": 2
   },
   "file_extension": ".py",
   "mimetype": "text/x-python",
   "name": "python",
   "nbconvert_exporter": "python",
   "pygments_lexer": "ipython2",
   "version": "2.7.13"
  }
 },
 "nbformat": 4,
 "nbformat_minor": 0
}
