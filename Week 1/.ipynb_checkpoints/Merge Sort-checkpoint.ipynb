{
 "cells": [
  {
   "cell_type": "markdown",
   "metadata": {},
   "source": [
    "# Merge Sort"
   ]
  },
  {
   "cell_type": "markdown",
   "metadata": {},
   "source": [
    "- Merge Sort improves upon the original Insertion Sort algorithm by using the 'Divide & Conquer' approach. \n",
    "- Divide & Conquer involes the following steps:\n",
    "    - Divide the problem into sub-problems\n",
    "    - Solve the sub-problems (usually) by recursively calling the original algorithm\n",
    "    - Combine the solutions to the sub-problems to create a solution to the main problem\n",
    "\n",
    "\n",
    "### The Problem\n",
    "**Input**: A sequence **A** of numbers [a0,a1,a2,...an]  \n",
    "**Output**: A reordering of the original sequence [a0',a1',a2',...,an'] such that a1'< a2' .... < an'  \n",
    "** Pseudocode **:  \n",
    "MERGE-SORT(A,p,r):  \n",
    "&nbsp;&nbsp;// A is the array  \n",
    "&nbsp;&nbsp;// p and r are the indices such that A[p...q] and A[q+1...r] are already in sorted order  \n",
    "&nbsp;&nbsp;if p < r:  \n",
    "&nbsp;&nbsp;&nbsp;&nbsp; q <- Floor((p+r)/2)  \n",
    "&nbsp;&nbsp;&nbsp;&nbsp; MERGE-SORT(A,p,q)  \n",
    "&nbsp;&nbsp;&nbsp;&nbsp; MERGE-SORT(A,q+1,r)  \n",
    "&nbsp;&nbsp;&nbsp;&nbsp; MERGE(A,p,q,r)\n",
    "\n",
    "The heavy-lifting in this algorithm is being done by MERGE:  \n",
    "MERGE(A,p,q,r):  \n",
    "n1 <- q - p + 1  #Length of the new left array  \n",
    "n2 <- r -q  #Length of the new right array r - (q + 1) + 1  \n",
    "#create arrays L[1,...,n1+1] and R[1....n2+1]  \n",
    "for i <- 1 to n1:  \n",
    "&nbsp;&nbsp;&nbsp;&nbsp;L[i] <- A[p+i-1]  \n",
    "for j <- 1 to n2:  \n",
    "&nbsp;&nbsp;&nbsp;&nbsp;R[j] <- A[q+j]  \n",
    "#adding a sentinel value  \n",
    "L[n1 + 1] <- INF #INF = infinity  \n",
    "R[n2 + 1] <- INF #INF = infinity  \n",
    "#Now we start filling up L and R. \n",
    "i <- 1  \n",
    "j <- 1  \n",
    "for k <- p to r:  \n",
    "&nbsp;&nbsp;&nbsp;&nbsp; if L[i] =< R [j]:  \n",
    "&nbsp;&nbsp;&nbsp;&nbsp;&nbsp;&nbsp;&nbsp;&nbsp;A[k] <- L[i]  \n",
    "&nbsp;&nbsp;&nbsp;&nbsp;&nbsp;&nbsp;&nbsp;&nbsp;i <- i + 1  \n",
    "&nbsp;&nbsp;&nbsp;&nbsp; else  \n",
    "&nbsp;&nbsp;&nbsp;&nbsp;&nbsp;&nbsp;&nbsp;&nbsp;A[k] <- R[j]  \n",
    "&nbsp;&nbsp;&nbsp;&nbsp;&nbsp;&nbsp;&nbsp;&nbsp;j <- j+1  "
   ]
  },
  {
   "cell_type": "markdown",
   "metadata": {},
   "source": [
    "### Python Code"
   ]
  },
  {
   "cell_type": "code",
   "execution_count": 148,
   "metadata": {
    "collapsed": false
   },
   "outputs": [],
   "source": [
    "# Creating an insertionSort class with a method to sort and a method to print the log of the sorting process\n",
    "\n",
    "class mergeSort():\n",
    "    \"\"\"\n",
    "    Input: a numeric list to be sorted\n",
    "    Outputs:\n",
    "    .sort() =  No output. The original input list will be sorted.\n",
    "    .log() =   A new list where each element shows what the original list\n",
    "               looks like at every iteration of the algorithm. The original input list will also get sorted.\n",
    "    \"\"\"\n",
    "    \n",
    "    # Initializing with a user-entered inputList and an empty logList with the same length as inputList\n",
    "    def __init__(self,inputList,p,q,r):\n",
    "        self.inputList = inputList\n",
    "        self.p = p\n",
    "        self.q = q\n",
    "        self.r = r\n",
    "        self.sentinelValue = max(inputList)+1\n",
    "        self.logList = [None]*len(self.inputList)\n",
    "    \n",
    "    # This method sorts an input list via insertion sort\n",
    "    def merge(self):\n",
    "        n1 = self.q - self.p + 1\n",
    "        n2 = self.r - self.q\n",
    "        \n",
    "        # creating the left and right sub-arrays\n",
    "        self.left = [None]*(n1+1)\n",
    "        self.right = [None]*(n2+1)\n",
    "        \n",
    "        for i in range(0,n1):\n",
    "            self.left[i] = self.inputList[self.p + i-1]\n",
    "        for j in range(0,n2):\n",
    "            self.right[j] = self.inputList[self.q + j]\n",
    "\n",
    "        # Adding the sentinel values at the end of Left and RIght\n",
    "        self.left[n1] = self.sentinelValue\n",
    "        self.right[n2] = self.sentinelValue\n",
    "        \n",
    "        i = 0\n",
    "        j = 0\n",
    "                \n",
    "#         for k in \n",
    "\n",
    "#             if self.left[i] >= self.right [j]:\n",
    "#                 self.inputList[k] = self.left[i]\n",
    "#                 i = i + 1\n",
    "#             else:\n",
    "#                 self.inputList[k] = self.right[j]\n",
    "#                 j = j + 1\n",
    "        \n",
    "#         return [self.inputList]\n",
    "            \n",
    "    # Create a log method to print out iterative results of the merge function\n",
    "    def log(self):\n",
    "        print \"test\""
   ]
  },
  {
   "cell_type": "code",
   "execution_count": 149,
   "metadata": {
    "collapsed": false
   },
   "outputs": [
    {
     "name": "stdout",
     "output_type": "stream",
     "text": [
      "10\n"
     ]
    },
    {
     "ename": "IndexError",
     "evalue": "list index out of range",
     "output_type": "error",
     "traceback": [
      "\u001b[1;31m---------------------------------------------------------------------------\u001b[0m",
      "\u001b[1;31mIndexError\u001b[0m                                Traceback (most recent call last)",
      "\u001b[1;32m<ipython-input-149-1d21ee4fcbaf>\u001b[0m in \u001b[0;36m<module>\u001b[1;34m()\u001b[0m\n\u001b[0;32m      5\u001b[0m \u001b[1;33m\u001b[0m\u001b[0m\n\u001b[0;32m      6\u001b[0m \u001b[1;31m#Sorting A using the sort method from insertionSort\u001b[0m\u001b[1;33m\u001b[0m\u001b[1;33m\u001b[0m\u001b[0m\n\u001b[1;32m----> 7\u001b[1;33m \u001b[0mmergeSort\u001b[0m\u001b[1;33m(\u001b[0m\u001b[0mA\u001b[0m\u001b[1;33m,\u001b[0m\u001b[1;36m1\u001b[0m\u001b[1;33m,\u001b[0m\u001b[1;36m5\u001b[0m\u001b[1;33m,\u001b[0m\u001b[1;36m10\u001b[0m\u001b[1;33m)\u001b[0m\u001b[1;33m.\u001b[0m\u001b[0mmerge\u001b[0m\u001b[1;33m(\u001b[0m\u001b[1;33m)\u001b[0m\u001b[1;33m\u001b[0m\u001b[0m\n\u001b[0m",
      "\u001b[1;32m<ipython-input-148-22bf18d0468b>\u001b[0m in \u001b[0;36mmerge\u001b[1;34m(self)\u001b[0m\n\u001b[0;32m     41\u001b[0m \u001b[1;33m\u001b[0m\u001b[0m\n\u001b[0;32m     42\u001b[0m         \u001b[1;32mfor\u001b[0m \u001b[0mk\u001b[0m \u001b[1;32min\u001b[0m \u001b[0mrange\u001b[0m\u001b[1;33m(\u001b[0m\u001b[0mself\u001b[0m\u001b[1;33m.\u001b[0m\u001b[0mp\u001b[0m\u001b[1;33m,\u001b[0m\u001b[0mself\u001b[0m\u001b[1;33m.\u001b[0m\u001b[0mr\u001b[0m\u001b[1;33m+\u001b[0m\u001b[1;36m1\u001b[0m\u001b[1;33m)\u001b[0m\u001b[1;33m:\u001b[0m\u001b[1;33m\u001b[0m\u001b[0m\n\u001b[1;32m---> 43\u001b[1;33m             \u001b[1;32mif\u001b[0m \u001b[0mself\u001b[0m\u001b[1;33m.\u001b[0m\u001b[0mleft\u001b[0m\u001b[1;33m[\u001b[0m\u001b[0mi\u001b[0m\u001b[1;33m]\u001b[0m \u001b[1;33m>=\u001b[0m \u001b[0mself\u001b[0m\u001b[1;33m.\u001b[0m\u001b[0mright\u001b[0m \u001b[1;33m[\u001b[0m\u001b[0mj\u001b[0m\u001b[1;33m]\u001b[0m\u001b[1;33m:\u001b[0m\u001b[1;33m\u001b[0m\u001b[0m\n\u001b[0m\u001b[0;32m     44\u001b[0m                 \u001b[0mself\u001b[0m\u001b[1;33m.\u001b[0m\u001b[0minputList\u001b[0m\u001b[1;33m[\u001b[0m\u001b[0mk\u001b[0m\u001b[1;33m]\u001b[0m \u001b[1;33m=\u001b[0m \u001b[0mself\u001b[0m\u001b[1;33m.\u001b[0m\u001b[0mleft\u001b[0m\u001b[1;33m[\u001b[0m\u001b[0mi\u001b[0m\u001b[1;33m]\u001b[0m\u001b[1;33m\u001b[0m\u001b[0m\n\u001b[0;32m     45\u001b[0m                 \u001b[0mi\u001b[0m \u001b[1;33m=\u001b[0m \u001b[0mi\u001b[0m \u001b[1;33m+\u001b[0m \u001b[1;36m1\u001b[0m\u001b[1;33m\u001b[0m\u001b[0m\n",
      "\u001b[1;31mIndexError\u001b[0m: list index out of range"
     ]
    }
   ],
   "source": [
    "# Define and print the original list\n",
    "A = [1,2,3,4,81,-5,-4,-3,-2,-1]\n",
    "print len(A)\n",
    "\n",
    "\n",
    "#Sorting A using the sort method from insertionSort\n",
    "mergeSort(A,1,5,10).merge()\n"
   ]
  },
  {
   "cell_type": "markdown",
   "metadata": {},
   "source": [
    "Now, let's apply insertionSort to a list A"
   ]
  },
  {
   "cell_type": "code",
   "execution_count": 2,
   "metadata": {
    "collapsed": false
   },
   "outputs": [
    {
     "name": "stdout",
     "output_type": "stream",
     "text": [
      "Initial List: [4, 1, 3, 6, 8, 9, 42, 2, 81, 82111, -1, 92, -82111, 6, 6, 6]\n",
      "Final List: [-82111, -1, 1, 2, 3, 4, 6, 6, 6, 6, 8, 9, 42, 81, 92, 82111]\n"
     ]
    }
   ],
   "source": [
    "# Define and print the original list\n",
    "A = [4,1,3,6,8,9,42,2,81,82111,-1,92,-82111,6,6,6]\n",
    "print \"Initial List:\", A\n",
    "\n",
    "# Sorting A using the sort method from insertionSort\n",
    "insertionSort(A).sort()\n",
    "\n",
    "# Print the list A after insertionSort\n",
    "print \"Final List:\", A"
   ]
  },
  {
   "cell_type": "code",
   "execution_count": 3,
   "metadata": {
    "collapsed": false
   },
   "outputs": [],
   "source": [
    "# #Uncomment this when the .log() method for insertionSort works\n",
    "# #Let's run insertionSortLog to see what is happening at each step\n",
    "# A = [4,1,3,6,8,9,42,2,81]\n",
    "\n",
    "# insertionSort(A).log()"
   ]
  },
  {
   "cell_type": "markdown",
   "metadata": {},
   "source": [
    "### Loop Invariance and Correctness"
   ]
  },
  {
   "cell_type": "markdown",
   "metadata": {},
   "source": [
    "**Loop Invariant**: \n",
    " - A property of a loop that is true before and after each iteration  \n",
    " - Loop invariants can help prove the correctness or usefulness of an algorithm  \n",
    " - Proving a loop invariant is very similar to doing a proof by induction. Here is the recipe:\n",
    "     - **Initialization** Prove that the invariant is true prior to the first iteration of the loop (base case)\n",
    "     - **Maintenance** Prove that if the invariant is true before an ($n^{th}$ case) iteration of the loop, it remains true before the iteration of the next iteration ${(n+1)}^{th}$ case.\n",
    "     - **Termination** Show that when the loop terminates, the invariant gives a useful property that helps show that the algorithm is correct."
   ]
  },
  {
   "cell_type": "markdown",
   "metadata": {},
   "source": [
    "For insertionSort, a loop invariance is that at the start of each iteration of the for loop, the subarray **A[1, ..., j-1]** consists of the same elements as originally in **A[1, ..., j-1]**  \n"
   ]
  },
  {
   "cell_type": "markdown",
   "metadata": {},
   "source": [
    "## -------------------------------------------------------Exercises--------------------------------------------------------"
   ]
  },
  {
   "cell_type": "markdown",
   "metadata": {},
   "source": [
    "### **CLSR Exercise 2.1-2**  \n",
    "Q) *Rewrite the INSERTION-SORT procedure to sort into nonincreasing instead of non-decreasing order*\n",
    "\n",
    "**Input**: A sequence **A** of numbers [a0,a1,a2,...an]  \n",
    "**Output**: A reordering of the original sequence [a0',a1',a2',...,an'] such that a1'> a2' .... > an'\n",
    "\n",
    "**Strategy**: We could just use the original insertionSort procedure and simply reverse the final output list. But let's do this from scratch. For every element (starting from the second to last one), we'll check if it is greater than the elements to its right. If so, we move it one step to the left.\n",
    "\n",
    "** Pseudocode **:\n",
    "Let A be some list of numbers  \n",
    "for j = length(A) to 1:  \n",
    "&nbsp;&nbsp;&nbsp;&nbsp;key = A[ j ]  \n",
    "&nbsp;&nbsp;&nbsp;&nbsp;i = j + 1  \n",
    "&nbsp;&nbsp;&nbsp;&nbsp;while i <= length(A) AND A[ i ] > key  \n",
    "&nbsp;&nbsp;&nbsp;&nbsp;&nbsp;&nbsp;&nbsp;&nbsp;A[ i-1 ] = A[ i ]  \n",
    "&nbsp;&nbsp;&nbsp;&nbsp;&nbsp;&nbsp;&nbsp;&nbsp;i = i + 1  \n",
    "&nbsp;&nbsp;&nbsp;&nbsp;A[ i - 1 ] = key  "
   ]
  },
  {
   "cell_type": "code",
   "execution_count": 4,
   "metadata": {
    "collapsed": true
   },
   "outputs": [],
   "source": [
    "def reverseInsertionSort(inputList):\n",
    "    # The range needs to go from length-2 to -1 because python starts counting at 0\n",
    "    for j in range(len(inputList)-2,-1,-1):\n",
    "            key = inputList[j]\n",
    "            i = j + 1\n",
    "            while i <= len(inputList) -1 and inputList[i] > key:\n",
    "                inputList[i-1] = inputList[i]\n",
    "                i += 1 # i = i + 1\n",
    "            inputList[i-1] = key   "
   ]
  },
  {
   "cell_type": "code",
   "execution_count": 5,
   "metadata": {
    "collapsed": false
   },
   "outputs": [
    {
     "name": "stdout",
     "output_type": "stream",
     "text": [
      "Initial List: [4, 1, 3, 6, 8, 9, 42, 2, 81, 82111, -1, 92, -82111, 6, 6, 6, 92]\n",
      "Final List: [82111, 92, 92, 81, 42, 9, 8, 6, 6, 6, 6, 4, 3, 2, 1, -1, -82111]\n"
     ]
    }
   ],
   "source": [
    "# Define and print the original list\n",
    "A = [4,1,3,6,8,9,42,2,81,82111,-1,92,-82111,6,6,6,92]\n",
    "print \"Initial List:\", A\n",
    "\n",
    "# Sorting A using the sort method from insertionSort\n",
    "reverseInsertionSort(A)\n",
    "\n",
    "# Print the list A after insertionSort\n",
    "print \"Final List:\", A"
   ]
  }
 ],
 "metadata": {
  "kernelspec": {
   "display_name": "Python 2",
   "language": "python",
   "name": "python2"
  },
  "language_info": {
   "codemirror_mode": {
    "name": "ipython",
    "version": 2
   },
   "file_extension": ".py",
   "mimetype": "text/x-python",
   "name": "python",
   "nbconvert_exporter": "python",
   "pygments_lexer": "ipython2",
   "version": "2.7.13"
  }
 },
 "nbformat": 4,
 "nbformat_minor": 0
}
