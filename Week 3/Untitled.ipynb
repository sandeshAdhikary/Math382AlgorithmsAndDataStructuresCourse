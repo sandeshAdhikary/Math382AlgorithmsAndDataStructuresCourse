{
 "cells": [
  {
   "cell_type": "markdown",
   "metadata": {},
   "source": [
    "## Quick Sort"
   ]
  },
  {
   "cell_type": "markdown",
   "metadata": {},
   "source": [
    "Continued from last lecture"
   ]
  },
  {
   "cell_type": "markdown",
   "metadata": {},
   "source": [
    "QUICK-SORT(A,l,r)  \n",
    "&nbsp;&nbsp;&nbsp;if r-l >= 0 #slice is length 1 or greater  \n",
    "&nbsp;&nbsp;&nbsp;&nbsp;&nbsp;p := CHOOSE-PIVOT(A,l,r,) #p is a position in [l,...r]  \n",
    "&nbsp;&nbsp;&nbsp;&nbsp;&nbsp;m:=PARTITION(A,p,l,r)  \n",
    "&nbsp;&nbsp;&nbsp;&nbsp;&nbsp;QUICK-SORT(A,l,m-1)  \n",
    "&nbsp;&nbsp;&nbsp;&nbsp;&nbsp;QUICk-SORT(A,m+1,r)"
   ]
  },
  {
   "cell_type": "markdown",
   "metadata": {},
   "source": [
    "Defining Partition"
   ]
  },
  {
   "cell_type": "markdown",
   "metadata": {},
   "source": [
    "Partition(A,p,l,r):  \n",
    "&nbsp;&nbsp;i = l; j = r #initializing i as the first (leftmost) and j to the last (rightmost) element   \n",
    "&nbsp;&nbsp;swap A[p] with A[r] # r is the last (rightmost) element and p is the pivot element  \n",
    "&nbsp;&nbsp;for j:= l to r do  \n",
    "&nbsp;&nbsp;&nbsp;&nbsp;if A[j] =< x then  \n",
    "&nbsp;&nbsp;&nbsp;&nbsp;&nbsp;&nbsp;swap A[j] with A[i]  \n",
    "&nbsp;&nbsp;&nbsp;&nbsp;&nbsp;&nbsp; i := i+1\n",
    "&nbsp;&nbsp;return  i-1"
   ]
  },
  {
   "cell_type": "code",
   "execution_count": null,
   "metadata": {
    "collapsed": true
   },
   "outputs": [],
   "source": []
  }
 ],
 "metadata": {
  "kernelspec": {
   "display_name": "Python 2",
   "language": "python",
   "name": "python2"
  },
  "language_info": {
   "codemirror_mode": {
    "name": "ipython",
    "version": 2
   },
   "file_extension": ".py",
   "mimetype": "text/x-python",
   "name": "python",
   "nbconvert_exporter": "python",
   "pygments_lexer": "ipython2",
   "version": "2.7.11"
  }
 },
 "nbformat": 4,
 "nbformat_minor": 0
}
